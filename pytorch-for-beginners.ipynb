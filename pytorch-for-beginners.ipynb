{
 "cells": [
  {
   "cell_type": "code",
   "execution_count": 1,
   "id": "9ef9c07b",
   "metadata": {
    "_cell_guid": "b1076dfc-b9ad-4769-8c92-a6c4dae69d19",
    "_uuid": "8f2839f25d086af736a60e9eeb907d3b93b6e0e5",
    "execution": {
     "iopub.execute_input": "2022-08-17T07:08:56.600223Z",
     "iopub.status.busy": "2022-08-17T07:08:56.599740Z",
     "iopub.status.idle": "2022-08-17T07:08:56.622124Z",
     "shell.execute_reply": "2022-08-17T07:08:56.620681Z"
    },
    "papermill": {
     "duration": 0.046288,
     "end_time": "2022-08-17T07:08:56.624845",
     "exception": false,
     "start_time": "2022-08-17T07:08:56.578557",
     "status": "completed"
    },
    "tags": []
   },
   "outputs": [
    {
     "name": "stdout",
     "output_type": "stream",
     "text": [
      "/kaggle/input/mnist-data/train.csv\n",
      "/kaggle/input/mnist-data/test.csv\n"
     ]
    }
   ],
   "source": [
    "import numpy as np \n",
    "import pandas as pd "
   ]
  },
  {
   "cell_type": "markdown",
   "id": "56025e8c",
   "metadata": {
    "papermill": {
     "duration": 0.017514,
     "end_time": "2022-08-17T07:08:56.698273",
     "exception": false,
     "start_time": "2022-08-17T07:08:56.680759",
     "status": "completed"
    },
    "tags": []
   },
   "source": [
    "<a id=\"1\"></a>\n",
    "\n",
    "# PYTORCH\n",
    "\n",
    "*  PyTorch is an open source offering from Facebook that facilitates writing Deep Learning code in Python."
   ]
  },
  {
   "cell_type": "markdown",
   "id": "c7d40446",
   "metadata": {
    "papermill": {
     "duration": 0.017374,
     "end_time": "2022-08-17T07:08:56.733504",
     "exception": false,
     "start_time": "2022-08-17T07:08:56.716130",
     "status": "completed"
    },
    "tags": []
   },
   "source": [
    "## PYTORCH vs TENSORFLOW\n",
    "\n",
    "* TensorFlow works in a different way than PyTorch that has major implications for code and debugging.\n",
    "* In TensorFlow, we use the library to build up a graph representation of the neural network architecture and then you execute operations on that graph, which happens within the TensorFlow library."
   ]
  },
  {
   "cell_type": "markdown",
   "id": "b5840fbc",
   "metadata": {
    "papermill": {
     "duration": 0.017514,
     "end_time": "2022-08-17T07:08:56.768794",
     "exception": false,
     "start_time": "2022-08-17T07:08:56.751280",
     "status": "completed"
    },
    "tags": []
   },
   "source": [
    "<a id=\"2\"></a>\n",
    "\n",
    "\n",
    "# CREATE TENSORS\n"
   ]
  },
  {
   "cell_type": "markdown",
   "id": "53c65e35",
   "metadata": {
    "papermill": {
     "duration": 0.018413,
     "end_time": "2022-08-17T07:08:56.804929",
     "exception": false,
     "start_time": "2022-08-17T07:08:56.786516",
     "status": "completed"
    },
    "tags": []
   },
   "source": [
    "# TENSORS\n",
    "\n",
    "\n",
    "* A tensor is both a container for numbers as well as a set of rules that define transformations between tensors that produce new tensors.\n",
    "* It’s probably easiest for us to think about tensors as **multidimensional arrays**."
   ]
  },
  {
   "cell_type": "code",
   "execution_count": 2,
   "id": "d364e35f",
   "metadata": {
    "execution": {
     "iopub.execute_input": "2022-08-17T07:08:56.844344Z",
     "iopub.status.busy": "2022-08-17T07:08:56.843589Z",
     "iopub.status.idle": "2022-08-17T07:08:58.738976Z",
     "shell.execute_reply": "2022-08-17T07:08:58.737800Z"
    },
    "papermill": {
     "duration": 1.918347,
     "end_time": "2022-08-17T07:08:58.742012",
     "exception": false,
     "start_time": "2022-08-17T07:08:56.823665",
     "status": "completed"
    },
    "tags": []
   },
   "outputs": [],
   "source": [
    "import torch"
   ]
  },
  {
   "cell_type": "code",
   "execution_count": 3,
   "id": "4a4d27aa",
   "metadata": {
    "execution": {
     "iopub.execute_input": "2022-08-17T07:08:58.780241Z",
     "iopub.status.busy": "2022-08-17T07:08:58.779635Z",
     "iopub.status.idle": "2022-08-17T07:08:58.790813Z",
     "shell.execute_reply": "2022-08-17T07:08:58.789780Z"
    },
    "papermill": {
     "duration": 0.032618,
     "end_time": "2022-08-17T07:08:58.792979",
     "exception": false,
     "start_time": "2022-08-17T07:08:58.760361",
     "status": "completed"
    },
    "tags": []
   },
   "outputs": [
    {
     "data": {
      "text/plain": [
       "tensor([[9., 8., 7.],\n",
       "        [6., 5., 4.],\n",
       "        [3., 2., 1.]])"
      ]
     },
     "execution_count": 3,
     "metadata": {},
     "output_type": "execute_result"
    }
   ],
   "source": [
    "t=torch.Tensor([[9,8,7],[6,5,4],[3,2,1]])\n",
    "t"
   ]
  },
  {
   "cell_type": "code",
   "execution_count": 4,
   "id": "b5647280",
   "metadata": {
    "execution": {
     "iopub.execute_input": "2022-08-17T07:08:58.831927Z",
     "iopub.status.busy": "2022-08-17T07:08:58.831193Z",
     "iopub.status.idle": "2022-08-17T07:08:58.839161Z",
     "shell.execute_reply": "2022-08-17T07:08:58.838033Z"
    },
    "papermill": {
     "duration": 0.030396,
     "end_time": "2022-08-17T07:08:58.841641",
     "exception": false,
     "start_time": "2022-08-17T07:08:58.811245",
     "status": "completed"
    },
    "tags": []
   },
   "outputs": [
    {
     "data": {
      "text/plain": [
       "tensor([[1., 2., 3.],\n",
       "        [4., 5., 6.]])"
      ]
     },
     "execution_count": 4,
     "metadata": {},
     "output_type": "execute_result"
    }
   ],
   "source": [
    "a=[[1,2,3],[4,5,6]]\n",
    "t2=torch.Tensor(a)\n",
    "t2"
   ]
  },
  {
   "cell_type": "code",
   "execution_count": 5,
   "id": "064df238",
   "metadata": {
    "execution": {
     "iopub.execute_input": "2022-08-17T07:08:58.881096Z",
     "iopub.status.busy": "2022-08-17T07:08:58.880335Z",
     "iopub.status.idle": "2022-08-17T07:08:58.886000Z",
     "shell.execute_reply": "2022-08-17T07:08:58.885257Z"
    },
    "papermill": {
     "duration": 0.027294,
     "end_time": "2022-08-17T07:08:58.888179",
     "exception": false,
     "start_time": "2022-08-17T07:08:58.860885",
     "status": "completed"
    },
    "tags": []
   },
   "outputs": [
    {
     "data": {
      "text/plain": [
       "True"
      ]
     },
     "execution_count": 5,
     "metadata": {},
     "output_type": "execute_result"
    }
   ],
   "source": [
    "# Is obj Tensor or not?\n",
    "torch.is_tensor(t)"
   ]
  },
  {
   "cell_type": "markdown",
   "id": "14380b6c",
   "metadata": {
    "papermill": {
     "duration": 0.01803,
     "end_time": "2022-08-17T07:08:58.924751",
     "exception": false,
     "start_time": "2022-08-17T07:08:58.906721",
     "status": "completed"
    },
    "tags": []
   },
   "source": [
    "<a id=\"3\"></a>\n",
    "\n",
    "\n",
    "# ZEROS - ONES - RANDOM - FULL - ARANGE"
   ]
  },
  {
   "cell_type": "code",
   "execution_count": 6,
   "id": "dcc91231",
   "metadata": {
    "execution": {
     "iopub.execute_input": "2022-08-17T07:08:58.963018Z",
     "iopub.status.busy": "2022-08-17T07:08:58.962281Z",
     "iopub.status.idle": "2022-08-17T07:08:58.969840Z",
     "shell.execute_reply": "2022-08-17T07:08:58.968694Z"
    },
    "papermill": {
     "duration": 0.029659,
     "end_time": "2022-08-17T07:08:58.972437",
     "exception": false,
     "start_time": "2022-08-17T07:08:58.942778",
     "status": "completed"
    },
    "tags": []
   },
   "outputs": [
    {
     "data": {
      "text/plain": [
       "tensor([[0., 0.],\n",
       "        [0., 0.]])"
      ]
     },
     "execution_count": 6,
     "metadata": {},
     "output_type": "execute_result"
    }
   ],
   "source": [
    "# ZEROS\n",
    "zero_tensor=torch.zeros(2,2)\n",
    "zero_tensor"
   ]
  },
  {
   "cell_type": "code",
   "execution_count": 7,
   "id": "db5f9167",
   "metadata": {
    "execution": {
     "iopub.execute_input": "2022-08-17T07:08:59.010476Z",
     "iopub.status.busy": "2022-08-17T07:08:59.010057Z",
     "iopub.status.idle": "2022-08-17T07:08:59.017137Z",
     "shell.execute_reply": "2022-08-17T07:08:59.016206Z"
    },
    "papermill": {
     "duration": 0.028454,
     "end_time": "2022-08-17T07:08:59.019317",
     "exception": false,
     "start_time": "2022-08-17T07:08:58.990863",
     "status": "completed"
    },
    "tags": []
   },
   "outputs": [
    {
     "data": {
      "text/plain": [
       "tensor([0., 0., 0., 0.])"
      ]
     },
     "execution_count": 7,
     "metadata": {},
     "output_type": "execute_result"
    }
   ],
   "source": [
    "zero_tensor2=torch.zeros(4)\n",
    "zero_tensor2"
   ]
  },
  {
   "cell_type": "code",
   "execution_count": 8,
   "id": "2223908e",
   "metadata": {
    "execution": {
     "iopub.execute_input": "2022-08-17T07:08:59.058267Z",
     "iopub.status.busy": "2022-08-17T07:08:59.057481Z",
     "iopub.status.idle": "2022-08-17T07:08:59.066441Z",
     "shell.execute_reply": "2022-08-17T07:08:59.065332Z"
    },
    "papermill": {
     "duration": 0.030927,
     "end_time": "2022-08-17T07:08:59.068897",
     "exception": false,
     "start_time": "2022-08-17T07:08:59.037970",
     "status": "completed"
    },
    "tags": []
   },
   "outputs": [
    {
     "data": {
      "text/plain": [
       "tensor([[1., 1., 1.],\n",
       "        [1., 1., 1.]])"
      ]
     },
     "execution_count": 8,
     "metadata": {},
     "output_type": "execute_result"
    }
   ],
   "source": [
    "# ONES\n",
    "one_tensor=torch.ones(2,3)\n",
    "one_tensor"
   ]
  },
  {
   "cell_type": "code",
   "execution_count": 9,
   "id": "6520e254",
   "metadata": {
    "execution": {
     "iopub.execute_input": "2022-08-17T07:08:59.108215Z",
     "iopub.status.busy": "2022-08-17T07:08:59.107743Z",
     "iopub.status.idle": "2022-08-17T07:08:59.115259Z",
     "shell.execute_reply": "2022-08-17T07:08:59.114216Z"
    },
    "papermill": {
     "duration": 0.03007,
     "end_time": "2022-08-17T07:08:59.117591",
     "exception": false,
     "start_time": "2022-08-17T07:08:59.087521",
     "status": "completed"
    },
    "tags": []
   },
   "outputs": [
    {
     "data": {
      "text/plain": [
       "tensor([1., 1., 1., 1., 1., 1., 1.])"
      ]
     },
     "execution_count": 9,
     "metadata": {},
     "output_type": "execute_result"
    }
   ],
   "source": [
    "one_tensor2=torch.ones(7)\n",
    "one_tensor2"
   ]
  },
  {
   "cell_type": "code",
   "execution_count": 10,
   "id": "6ac7f174",
   "metadata": {
    "execution": {
     "iopub.execute_input": "2022-08-17T07:08:59.157291Z",
     "iopub.status.busy": "2022-08-17T07:08:59.156172Z",
     "iopub.status.idle": "2022-08-17T07:08:59.166661Z",
     "shell.execute_reply": "2022-08-17T07:08:59.165807Z"
    },
    "papermill": {
     "duration": 0.032509,
     "end_time": "2022-08-17T07:08:59.168881",
     "exception": false,
     "start_time": "2022-08-17T07:08:59.136372",
     "status": "completed"
    },
    "tags": []
   },
   "outputs": [
    {
     "data": {
      "text/plain": [
       "tensor([[0.1423, 0.2137, 0.2981],\n",
       "        [0.2078, 0.4535, 0.8404],\n",
       "        [0.2068, 0.0826, 0.7276]])"
      ]
     },
     "execution_count": 10,
     "metadata": {},
     "output_type": "execute_result"
    }
   ],
   "source": [
    "# RAND: Generates random float numbers on the interval [0,1)\n",
    "\n",
    "rand_tensor=torch.rand(3,3)\n",
    "rand_tensor"
   ]
  },
  {
   "cell_type": "code",
   "execution_count": 11,
   "id": "30ec8e00",
   "metadata": {
    "execution": {
     "iopub.execute_input": "2022-08-17T07:08:59.208354Z",
     "iopub.status.busy": "2022-08-17T07:08:59.207482Z",
     "iopub.status.idle": "2022-08-17T07:08:59.216674Z",
     "shell.execute_reply": "2022-08-17T07:08:59.215654Z"
    },
    "papermill": {
     "duration": 0.031273,
     "end_time": "2022-08-17T07:08:59.218871",
     "exception": false,
     "start_time": "2022-08-17T07:08:59.187598",
     "status": "completed"
    },
    "tags": []
   },
   "outputs": [
    {
     "data": {
      "text/plain": [
       "tensor([[6, 0],\n",
       "        [2, 1]])"
      ]
     },
     "execution_count": 11,
     "metadata": {},
     "output_type": "execute_result"
    }
   ],
   "source": [
    "# RANDINT\n",
    "\n",
    "# Generates random integer numbers on the interval [0,10)\n",
    "\n",
    "randint_tensor=torch.randint(10,(2,2))\n",
    "randint_tensor"
   ]
  },
  {
   "cell_type": "code",
   "execution_count": 12,
   "id": "ccfbef7b",
   "metadata": {
    "execution": {
     "iopub.execute_input": "2022-08-17T07:08:59.259392Z",
     "iopub.status.busy": "2022-08-17T07:08:59.258090Z",
     "iopub.status.idle": "2022-08-17T07:08:59.266827Z",
     "shell.execute_reply": "2022-08-17T07:08:59.265601Z"
    },
    "papermill": {
     "duration": 0.030875,
     "end_time": "2022-08-17T07:08:59.269182",
     "exception": false,
     "start_time": "2022-08-17T07:08:59.238307",
     "status": "completed"
    },
    "tags": []
   },
   "outputs": [
    {
     "data": {
      "text/plain": [
       "tensor([[19, 22, 14, 13],\n",
       "        [28, 11, 25, 15],\n",
       "        [25, 19, 26, 21],\n",
       "        [20, 18, 27, 15]])"
      ]
     },
     "execution_count": 12,
     "metadata": {},
     "output_type": "execute_result"
    }
   ],
   "source": [
    "# Generates random integer numbers on the interval [10,30)\n",
    "\n",
    "randint_tensor2=torch.randint(10,30,(4,4))\n",
    "randint_tensor2"
   ]
  },
  {
   "cell_type": "code",
   "execution_count": 13,
   "id": "7908779b",
   "metadata": {
    "execution": {
     "iopub.execute_input": "2022-08-17T07:08:59.308633Z",
     "iopub.status.busy": "2022-08-17T07:08:59.308210Z",
     "iopub.status.idle": "2022-08-17T07:08:59.315346Z",
     "shell.execute_reply": "2022-08-17T07:08:59.314206Z"
    },
    "papermill": {
     "duration": 0.029602,
     "end_time": "2022-08-17T07:08:59.317788",
     "exception": false,
     "start_time": "2022-08-17T07:08:59.288186",
     "status": "completed"
    },
    "tags": []
   },
   "outputs": [
    {
     "data": {
      "text/plain": [
       "tensor([4, 4, 0])"
      ]
     },
     "execution_count": 13,
     "metadata": {},
     "output_type": "execute_result"
    }
   ],
   "source": [
    "# Generates random integer numbers on the interval [0,5)\n",
    "\n",
    "randint_tensor3=torch.randint(5,(3,))\n",
    "randint_tensor3"
   ]
  },
  {
   "cell_type": "code",
   "execution_count": 14,
   "id": "5a7ce155",
   "metadata": {
    "execution": {
     "iopub.execute_input": "2022-08-17T07:08:59.357139Z",
     "iopub.status.busy": "2022-08-17T07:08:59.356696Z",
     "iopub.status.idle": "2022-08-17T07:08:59.365712Z",
     "shell.execute_reply": "2022-08-17T07:08:59.364622Z"
    },
    "papermill": {
     "duration": 0.03142,
     "end_time": "2022-08-17T07:08:59.368105",
     "exception": false,
     "start_time": "2022-08-17T07:08:59.336685",
     "status": "completed"
    },
    "tags": []
   },
   "outputs": [
    {
     "data": {
      "text/plain": [
       "tensor([[8, 8, 8, 8],\n",
       "        [8, 8, 8, 8]])"
      ]
     },
     "execution_count": 14,
     "metadata": {},
     "output_type": "execute_result"
    }
   ],
   "source": [
    "# FULL\n",
    "\n",
    "full_tensor=torch.full((2,4),8)\n",
    "full_tensor"
   ]
  },
  {
   "cell_type": "code",
   "execution_count": 15,
   "id": "1887ee0f",
   "metadata": {
    "execution": {
     "iopub.execute_input": "2022-08-17T07:08:59.408414Z",
     "iopub.status.busy": "2022-08-17T07:08:59.407892Z",
     "iopub.status.idle": "2022-08-17T07:08:59.418659Z",
     "shell.execute_reply": "2022-08-17T07:08:59.417488Z"
    },
    "papermill": {
     "duration": 0.033987,
     "end_time": "2022-08-17T07:08:59.421267",
     "exception": false,
     "start_time": "2022-08-17T07:08:59.387280",
     "status": "completed"
    },
    "tags": []
   },
   "outputs": [
    {
     "data": {
      "text/plain": [
       "tensor([0, 1, 2, 3, 4, 5, 6, 7])"
      ]
     },
     "execution_count": 15,
     "metadata": {},
     "output_type": "execute_result"
    }
   ],
   "source": [
    "# ARANGE\n",
    "\n",
    "# Returns 1-D tensor.\n",
    "\n",
    "arange_tensor=torch.arange(8)\n",
    "arange_tensor"
   ]
  },
  {
   "cell_type": "code",
   "execution_count": 16,
   "id": "d887c7d7",
   "metadata": {
    "execution": {
     "iopub.execute_input": "2022-08-17T07:08:59.461587Z",
     "iopub.status.busy": "2022-08-17T07:08:59.461183Z",
     "iopub.status.idle": "2022-08-17T07:08:59.469595Z",
     "shell.execute_reply": "2022-08-17T07:08:59.468428Z"
    },
    "papermill": {
     "duration": 0.031428,
     "end_time": "2022-08-17T07:08:59.472032",
     "exception": false,
     "start_time": "2022-08-17T07:08:59.440604",
     "status": "completed"
    },
    "tags": []
   },
   "outputs": [
    {
     "data": {
      "text/plain": [
       "tensor([ 0, 10, 20, 30, 40, 50, 60, 70, 80, 90])"
      ]
     },
     "execution_count": 16,
     "metadata": {},
     "output_type": "execute_result"
    }
   ],
   "source": [
    "# Intervals: [start,end)\n",
    "arange_tensor2=torch.arange(0,100,10)\n",
    "arange_tensor2"
   ]
  },
  {
   "cell_type": "markdown",
   "id": "a8c0a1e8",
   "metadata": {
    "papermill": {
     "duration": 0.019211,
     "end_time": "2022-08-17T07:08:59.510846",
     "exception": false,
     "start_time": "2022-08-17T07:08:59.491635",
     "status": "completed"
    },
    "tags": []
   },
   "source": [
    "#### Pretty similar to NumPy. You can check for more: https://pytorch.org/docs/stable/torch.html"
   ]
  },
  {
   "cell_type": "markdown",
   "id": "feecd30b",
   "metadata": {
    "papermill": {
     "duration": 0.019026,
     "end_time": "2022-08-17T07:08:59.549301",
     "exception": false,
     "start_time": "2022-08-17T07:08:59.530275",
     "status": "completed"
    },
    "tags": []
   },
   "source": [
    "<a id=\"4\"></a>\n",
    "\n",
    "# **CONVERTING**\n",
    "\n",
    "* Even if when I use PyTorch for Neural Networks, I usually convert results, which is tensor, to NumPy array to visualize or examine.\n",
    "* Let's look at conversion between NumPy Array to Tensor and Tensor to NumPy Array."
   ]
  },
  {
   "cell_type": "markdown",
   "id": "e2cae948",
   "metadata": {
    "papermill": {
     "duration": 0.018934,
     "end_time": "2022-08-17T07:08:59.587474",
     "exception": false,
     "start_time": "2022-08-17T07:08:59.568540",
     "status": "completed"
    },
    "tags": []
   },
   "source": [
    "<a id=\"5\"></a>\n",
    "\n",
    "# FROM NUMPY ARRAY TO TENSOR"
   ]
  },
  {
   "cell_type": "code",
   "execution_count": 17,
   "id": "bdcb6c5e",
   "metadata": {
    "execution": {
     "iopub.execute_input": "2022-08-17T07:08:59.628842Z",
     "iopub.status.busy": "2022-08-17T07:08:59.628392Z",
     "iopub.status.idle": "2022-08-17T07:08:59.636259Z",
     "shell.execute_reply": "2022-08-17T07:08:59.635159Z"
    },
    "papermill": {
     "duration": 0.032286,
     "end_time": "2022-08-17T07:08:59.639166",
     "exception": false,
     "start_time": "2022-08-17T07:08:59.606880",
     "status": "completed"
    },
    "tags": []
   },
   "outputs": [
    {
     "name": "stdout",
     "output_type": "stream",
     "text": [
      "Type: <class 'numpy.ndarray'> \n",
      " Array: [[99 88 77]\n",
      " [11 22 33]]\n"
     ]
    }
   ],
   "source": [
    "numbers=[[99,88,77],[11,22,33]]\n",
    "array=np.array(numbers)\n",
    "print(\"Type: {} \\n Array: {}\".format(type(array),array))"
   ]
  },
  {
   "cell_type": "code",
   "execution_count": 18,
   "id": "3f72a633",
   "metadata": {
    "execution": {
     "iopub.execute_input": "2022-08-17T07:08:59.679973Z",
     "iopub.status.busy": "2022-08-17T07:08:59.679330Z",
     "iopub.status.idle": "2022-08-17T07:08:59.687089Z",
     "shell.execute_reply": "2022-08-17T07:08:59.685428Z"
    },
    "papermill": {
     "duration": 0.030727,
     "end_time": "2022-08-17T07:08:59.689563",
     "exception": false,
     "start_time": "2022-08-17T07:08:59.658836",
     "status": "completed"
    },
    "tags": []
   },
   "outputs": [
    {
     "name": "stdout",
     "output_type": "stream",
     "text": [
      "Type: torch.int64 \n",
      " Tensor: tensor([[99, 88, 77],\n",
      "        [11, 22, 33]])\n"
     ]
    }
   ],
   "source": [
    "from_numpy_to_tensor=torch.from_numpy(array)\n",
    "print(\"Type: {} \\n Tensor: {}\".format(from_numpy_to_tensor.dtype,from_numpy_to_tensor))"
   ]
  },
  {
   "cell_type": "markdown",
   "id": "6d104a73",
   "metadata": {
    "papermill": {
     "duration": 0.019309,
     "end_time": "2022-08-17T07:08:59.728166",
     "exception": false,
     "start_time": "2022-08-17T07:08:59.708857",
     "status": "completed"
    },
    "tags": []
   },
   "source": [
    "<a id=\"6\"></a>\n",
    "\n",
    "\n",
    "# FROM TENSOR TO NUMPY ARRAY"
   ]
  },
  {
   "cell_type": "code",
   "execution_count": 19,
   "id": "3d02b559",
   "metadata": {
    "execution": {
     "iopub.execute_input": "2022-08-17T07:08:59.768869Z",
     "iopub.status.busy": "2022-08-17T07:08:59.768241Z",
     "iopub.status.idle": "2022-08-17T07:08:59.773342Z",
     "shell.execute_reply": "2022-08-17T07:08:59.772389Z"
    },
    "papermill": {
     "duration": 0.028943,
     "end_time": "2022-08-17T07:08:59.776449",
     "exception": false,
     "start_time": "2022-08-17T07:08:59.747506",
     "status": "completed"
    },
    "tags": []
   },
   "outputs": [
    {
     "name": "stdout",
     "output_type": "stream",
     "text": [
      "Type: <class 'numpy.ndarray'> \n",
      " Array: [[99 88 77]\n",
      " [11 22 33]]\n"
     ]
    }
   ],
   "source": [
    "from_tensor_to_numpy=from_numpy_to_tensor.numpy()\n",
    "print(\"Type: {} \\n Array: {}\".format(type(from_tensor_to_numpy),from_tensor_to_numpy))"
   ]
  },
  {
   "cell_type": "markdown",
   "id": "e500c8b4",
   "metadata": {
    "papermill": {
     "duration": 0.019875,
     "end_time": "2022-08-17T07:08:59.816870",
     "exception": false,
     "start_time": "2022-08-17T07:08:59.796995",
     "status": "completed"
    },
    "tags": []
   },
   "source": [
    "<a id=\"7\"></a>\n",
    "\n",
    "\n",
    "# **BASIC MATH OPERATIONS**"
   ]
  },
  {
   "cell_type": "code",
   "execution_count": 20,
   "id": "06519e09",
   "metadata": {
    "execution": {
     "iopub.execute_input": "2022-08-17T07:08:59.859889Z",
     "iopub.status.busy": "2022-08-17T07:08:59.859281Z",
     "iopub.status.idle": "2022-08-17T07:08:59.869369Z",
     "shell.execute_reply": "2022-08-17T07:08:59.867914Z"
    },
    "papermill": {
     "duration": 0.034633,
     "end_time": "2022-08-17T07:08:59.871804",
     "exception": false,
     "start_time": "2022-08-17T07:08:59.837171",
     "status": "completed"
    },
    "tags": []
   },
   "outputs": [
    {
     "name": "stdout",
     "output_type": "stream",
     "text": [
      "tensor([[0.6035, 0.2801],\n",
      "        [0.9673, 0.7163]]) \n",
      "\n"
     ]
    },
    {
     "data": {
      "text/plain": [
       "tensor([[10.6035, 10.2801],\n",
       "        [10.9673, 10.7163]])"
      ]
     },
     "execution_count": 20,
     "metadata": {},
     "output_type": "execute_result"
    }
   ],
   "source": [
    "# ADD\n",
    "\n",
    "t=torch.rand(2,2)\n",
    "print(t,\"\\n\")\n",
    "torch.add(t,10)\n"
   ]
  },
  {
   "cell_type": "code",
   "execution_count": 21,
   "id": "c38dc1d9",
   "metadata": {
    "execution": {
     "iopub.execute_input": "2022-08-17T07:08:59.912943Z",
     "iopub.status.busy": "2022-08-17T07:08:59.912355Z",
     "iopub.status.idle": "2022-08-17T07:08:59.919066Z",
     "shell.execute_reply": "2022-08-17T07:08:59.917927Z"
    },
    "papermill": {
     "duration": 0.029715,
     "end_time": "2022-08-17T07:08:59.921130",
     "exception": false,
     "start_time": "2022-08-17T07:08:59.891415",
     "status": "completed"
    },
    "tags": []
   },
   "outputs": [
    {
     "data": {
      "text/plain": [
       "tensor([[1.6035, 1.2801],\n",
       "        [1.9673, 1.7163]])"
      ]
     },
     "execution_count": 21,
     "metadata": {},
     "output_type": "execute_result"
    }
   ],
   "source": [
    "ones=torch.ones(2,2)\n",
    "torch.add(t,ones)"
   ]
  },
  {
   "cell_type": "code",
   "execution_count": 22,
   "id": "2bb85fe0",
   "metadata": {
    "execution": {
     "iopub.execute_input": "2022-08-17T07:08:59.962622Z",
     "iopub.status.busy": "2022-08-17T07:08:59.962005Z",
     "iopub.status.idle": "2022-08-17T07:08:59.970199Z",
     "shell.execute_reply": "2022-08-17T07:08:59.969129Z"
    },
    "papermill": {
     "duration": 0.031627,
     "end_time": "2022-08-17T07:08:59.972550",
     "exception": false,
     "start_time": "2022-08-17T07:08:59.940923",
     "status": "completed"
    },
    "tags": []
   },
   "outputs": [
    {
     "data": {
      "text/plain": [
       "tensor([5, 4])"
      ]
     },
     "execution_count": 22,
     "metadata": {},
     "output_type": "execute_result"
    }
   ],
   "source": [
    "# SUBTRACTS\n",
    "\n",
    "a = torch.tensor((8, 6))\n",
    "b = torch.tensor((3, 2))\n",
    "torch.sub(a, b)"
   ]
  },
  {
   "cell_type": "code",
   "execution_count": 23,
   "id": "aa2fae98",
   "metadata": {
    "execution": {
     "iopub.execute_input": "2022-08-17T07:09:00.016318Z",
     "iopub.status.busy": "2022-08-17T07:09:00.015668Z",
     "iopub.status.idle": "2022-08-17T07:09:00.021816Z",
     "shell.execute_reply": "2022-08-17T07:09:00.020975Z"
    },
    "papermill": {
     "duration": 0.030358,
     "end_time": "2022-08-17T07:09:00.023992",
     "exception": false,
     "start_time": "2022-08-17T07:08:59.993634",
     "status": "completed"
    },
    "tags": []
   },
   "outputs": [
    {
     "data": {
      "text/plain": [
       "tensor([24, 12])"
      ]
     },
     "execution_count": 23,
     "metadata": {},
     "output_type": "execute_result"
    }
   ],
   "source": [
    "# MULTIPLICATION\n",
    "torch.mul(a,b)"
   ]
  },
  {
   "cell_type": "code",
   "execution_count": 24,
   "id": "b5121990",
   "metadata": {
    "execution": {
     "iopub.execute_input": "2022-08-17T07:09:00.066525Z",
     "iopub.status.busy": "2022-08-17T07:09:00.065946Z",
     "iopub.status.idle": "2022-08-17T07:09:00.071509Z",
     "shell.execute_reply": "2022-08-17T07:09:00.070784Z"
    },
    "papermill": {
     "duration": 0.029177,
     "end_time": "2022-08-17T07:09:00.073532",
     "exception": false,
     "start_time": "2022-08-17T07:09:00.044355",
     "status": "completed"
    },
    "tags": []
   },
   "outputs": [
    {
     "data": {
      "text/plain": [
       "tensor([160, 120])"
      ]
     },
     "execution_count": 24,
     "metadata": {},
     "output_type": "execute_result"
    }
   ],
   "source": [
    "torch.mul(a,20)"
   ]
  },
  {
   "cell_type": "code",
   "execution_count": 25,
   "id": "e3f5ef61",
   "metadata": {
    "execution": {
     "iopub.execute_input": "2022-08-17T07:09:00.115554Z",
     "iopub.status.busy": "2022-08-17T07:09:00.114958Z",
     "iopub.status.idle": "2022-08-17T07:09:00.120989Z",
     "shell.execute_reply": "2022-08-17T07:09:00.120170Z"
    },
    "papermill": {
     "duration": 0.029595,
     "end_time": "2022-08-17T07:09:00.123057",
     "exception": false,
     "start_time": "2022-08-17T07:09:00.093462",
     "status": "completed"
    },
    "tags": []
   },
   "outputs": [
    {
     "data": {
      "text/plain": [
       "tensor([0.3750, 0.3333])"
      ]
     },
     "execution_count": 25,
     "metadata": {},
     "output_type": "execute_result"
    }
   ],
   "source": [
    "# DIVISION\n",
    "\n",
    "torch.div(b,a)"
   ]
  },
  {
   "cell_type": "code",
   "execution_count": 26,
   "id": "8ae062b3",
   "metadata": {
    "execution": {
     "iopub.execute_input": "2022-08-17T07:09:00.165304Z",
     "iopub.status.busy": "2022-08-17T07:09:00.164699Z",
     "iopub.status.idle": "2022-08-17T07:09:00.170575Z",
     "shell.execute_reply": "2022-08-17T07:09:00.169802Z"
    },
    "papermill": {
     "duration": 0.029488,
     "end_time": "2022-08-17T07:09:00.172540",
     "exception": false,
     "start_time": "2022-08-17T07:09:00.143052",
     "status": "completed"
    },
    "tags": []
   },
   "outputs": [
    {
     "data": {
      "text/plain": [
       "tensor([2.3333, 3.5000])"
      ]
     },
     "execution_count": 26,
     "metadata": {},
     "output_type": "execute_result"
    }
   ],
   "source": [
    "torch.div(7,b)"
   ]
  },
  {
   "cell_type": "code",
   "execution_count": 27,
   "id": "bad3cee9",
   "metadata": {
    "execution": {
     "iopub.execute_input": "2022-08-17T07:09:00.215492Z",
     "iopub.status.busy": "2022-08-17T07:09:00.214865Z",
     "iopub.status.idle": "2022-08-17T07:09:00.229235Z",
     "shell.execute_reply": "2022-08-17T07:09:00.228382Z"
    },
    "papermill": {
     "duration": 0.038483,
     "end_time": "2022-08-17T07:09:00.231357",
     "exception": false,
     "start_time": "2022-08-17T07:09:00.192874",
     "status": "completed"
    },
    "tags": []
   },
   "outputs": [
    {
     "data": {
      "text/plain": [
       "tensor([8., 4.])"
      ]
     },
     "execution_count": 27,
     "metadata": {},
     "output_type": "execute_result"
    }
   ],
   "source": [
    "# SQUARE - ROOT\n",
    "c=torch.tensor((64,16))\n",
    "torch.sqrt(c)"
   ]
  },
  {
   "cell_type": "code",
   "execution_count": 28,
   "id": "81ce6d84",
   "metadata": {
    "execution": {
     "iopub.execute_input": "2022-08-17T07:09:00.274515Z",
     "iopub.status.busy": "2022-08-17T07:09:00.274144Z",
     "iopub.status.idle": "2022-08-17T07:09:00.281963Z",
     "shell.execute_reply": "2022-08-17T07:09:00.280703Z"
    },
    "papermill": {
     "duration": 0.031714,
     "end_time": "2022-08-17T07:09:00.284157",
     "exception": false,
     "start_time": "2022-08-17T07:09:00.252443",
     "status": "completed"
    },
    "tags": []
   },
   "outputs": [
    {
     "data": {
      "text/plain": [
       "tensor([49, 81])"
      ]
     },
     "execution_count": 28,
     "metadata": {},
     "output_type": "execute_result"
    }
   ],
   "source": [
    "# POWER\n",
    "\n",
    "d=torch.tensor((7,9))\n",
    "torch.pow(d,2)"
   ]
  },
  {
   "cell_type": "code",
   "execution_count": 29,
   "id": "7692ee7a",
   "metadata": {
    "execution": {
     "iopub.execute_input": "2022-08-17T07:09:00.327071Z",
     "iopub.status.busy": "2022-08-17T07:09:00.325952Z",
     "iopub.status.idle": "2022-08-17T07:09:00.334046Z",
     "shell.execute_reply": "2022-08-17T07:09:00.332882Z"
    },
    "papermill": {
     "duration": 0.031904,
     "end_time": "2022-08-17T07:09:00.336342",
     "exception": false,
     "start_time": "2022-08-17T07:09:00.304438",
     "status": "completed"
    },
    "tags": []
   },
   "outputs": [
    {
     "data": {
      "text/plain": [
       "tensor([128, 512])"
      ]
     },
     "execution_count": 29,
     "metadata": {},
     "output_type": "execute_result"
    }
   ],
   "source": [
    "torch.pow(2,d)"
   ]
  },
  {
   "cell_type": "code",
   "execution_count": 30,
   "id": "3a65cfc6",
   "metadata": {
    "execution": {
     "iopub.execute_input": "2022-08-17T07:09:00.379494Z",
     "iopub.status.busy": "2022-08-17T07:09:00.378553Z",
     "iopub.status.idle": "2022-08-17T07:09:00.386059Z",
     "shell.execute_reply": "2022-08-17T07:09:00.385015Z"
    },
    "papermill": {
     "duration": 0.031606,
     "end_time": "2022-08-17T07:09:00.388273",
     "exception": false,
     "start_time": "2022-08-17T07:09:00.356667",
     "status": "completed"
    },
    "tags": []
   },
   "outputs": [
    {
     "data": {
      "text/plain": [
       "tensor(85)"
      ]
     },
     "execution_count": 30,
     "metadata": {},
     "output_type": "execute_result"
    }
   ],
   "source": [
    "# SUM:  Sum of all elements in the Tensor.\n",
    "e=torch.tensor((25,60))\n",
    "torch.sum(e)"
   ]
  },
  {
   "cell_type": "code",
   "execution_count": 31,
   "id": "92952c2c",
   "metadata": {
    "execution": {
     "iopub.execute_input": "2022-08-17T07:09:00.431093Z",
     "iopub.status.busy": "2022-08-17T07:09:00.430674Z",
     "iopub.status.idle": "2022-08-17T07:09:00.438462Z",
     "shell.execute_reply": "2022-08-17T07:09:00.437503Z"
    },
    "papermill": {
     "duration": 0.031672,
     "end_time": "2022-08-17T07:09:00.440495",
     "exception": false,
     "start_time": "2022-08-17T07:09:00.408823",
     "status": "completed"
    },
    "tags": []
   },
   "outputs": [
    {
     "data": {
      "text/plain": [
       "tensor(2.7221)"
      ]
     },
     "execution_count": 31,
     "metadata": {},
     "output_type": "execute_result"
    }
   ],
   "source": [
    "# STANDARD DEVIATION: Calculates the standard deviation of all elements in the Tensor\n",
    "\n",
    "f=torch.tensor((5.4,8.7,3.3))\n",
    "torch.std(f)"
   ]
  },
  {
   "cell_type": "code",
   "execution_count": 32,
   "id": "067890e4",
   "metadata": {
    "execution": {
     "iopub.execute_input": "2022-08-17T07:09:00.483512Z",
     "iopub.status.busy": "2022-08-17T07:09:00.483140Z",
     "iopub.status.idle": "2022-08-17T07:09:00.491888Z",
     "shell.execute_reply": "2022-08-17T07:09:00.490527Z"
    },
    "papermill": {
     "duration": 0.032897,
     "end_time": "2022-08-17T07:09:00.494164",
     "exception": false,
     "start_time": "2022-08-17T07:09:00.461267",
     "status": "completed"
    },
    "tags": []
   },
   "outputs": [
    {
     "name": "stdout",
     "output_type": "stream",
     "text": [
      "tensor([[0.9597, 0.2710, 0.7174]]) \n",
      "\n"
     ]
    },
    {
     "data": {
      "text/plain": [
       "tensor(0.6494)"
      ]
     },
     "execution_count": 32,
     "metadata": {},
     "output_type": "execute_result"
    }
   ],
   "source": [
    "# MEAN\n",
    "\n",
    "g=torch.rand(1,3)\n",
    "print(g,\"\\n\")\n",
    "torch.mean(g)"
   ]
  },
  {
   "attachments": {
    "c7b8e685-809e-4ee7-924f-00994917fa49.png": {
     "image/png": "[encoded data removed]"
    }
   },
   "cell_type": "markdown",
   "id": "481f63b2",
   "metadata": {
    "papermill": {
     "duration": 0.020449,
     "end_time": "2022-08-17T07:09:00.535932",
     "exception": false,
     "start_time": "2022-08-17T07:09:00.515483",
     "status": "completed"
    },
    "tags": []
   },
   "source": [
    "<a id=\"8\"></a>\n",
    "\n",
    "\n",
    "# **SIMPLE LINEAR REGRESSION with PYTORCH**\n",
    "\n",
    "* Linear regression assumes that the relationship between the features and the target vector is approximately linear.\n",
    "* The *effect* (also called coefficient, weight, or parameter) of the features on the target vector is constant.\n",
    "\n",
    "\n",
    "![linear.png](attachment:c7b8e685-809e-4ee7-924f-00994917fa49.png)\n",
    "\n",
    "\n",
    "* ŷ -> Target\n",
    "* β1 and β2 -> Coefficients\n",
    "* xi -> Data for single feature\n"
   ]
  },
  {
   "cell_type": "markdown",
   "id": "bf30d798",
   "metadata": {
    "papermill": {
     "duration": 0.020332,
     "end_time": "2022-08-17T07:09:00.577021",
     "exception": false,
     "start_time": "2022-08-17T07:09:00.556689",
     "status": "completed"
    },
    "tags": []
   },
   "source": [
    "#### Let's create a simple data.\n",
    "\n",
    "* Data about relation between TV advertising and Sales"
   ]
  },
  {
   "cell_type": "code",
   "execution_count": 33,
   "id": "aecb1450",
   "metadata": {
    "execution": {
     "iopub.execute_input": "2022-08-17T07:09:00.620334Z",
     "iopub.status.busy": "2022-08-17T07:09:00.619625Z",
     "iopub.status.idle": "2022-08-17T07:09:00.623628Z",
     "shell.execute_reply": "2022-08-17T07:09:00.622912Z"
    },
    "papermill": {
     "duration": 0.028172,
     "end_time": "2022-08-17T07:09:00.625795",
     "exception": false,
     "start_time": "2022-08-17T07:09:00.597623",
     "status": "completed"
    },
    "tags": []
   },
   "outputs": [],
   "source": [
    "from torch.autograd import Variable"
   ]
  },
  {
   "cell_type": "code",
   "execution_count": 34,
   "id": "99081750",
   "metadata": {
    "execution": {
     "iopub.execute_input": "2022-08-17T07:09:00.669524Z",
     "iopub.status.busy": "2022-08-17T07:09:00.668789Z",
     "iopub.status.idle": "2022-08-17T07:09:00.674135Z",
     "shell.execute_reply": "2022-08-17T07:09:00.673183Z"
    },
    "papermill": {
     "duration": 0.029718,
     "end_time": "2022-08-17T07:09:00.676334",
     "exception": false,
     "start_time": "2022-08-17T07:09:00.646616",
     "status": "completed"
    },
    "tags": []
   },
   "outputs": [],
   "source": [
    "TV_adds=[17.5, 17, 16.5, 16.0, 15.5, 15.0, 14.5]\n",
    "TV_adds_array=np.array(TV_adds,dtype=np.float32)\n",
    "TV_adds_array=TV_adds_array.reshape(-1,1)\n",
    "TV_adds_tensor=Variable(torch.from_numpy(TV_adds_array))"
   ]
  },
  {
   "cell_type": "code",
   "execution_count": 35,
   "id": "8778b138",
   "metadata": {
    "execution": {
     "iopub.execute_input": "2022-08-17T07:09:00.719971Z",
     "iopub.status.busy": "2022-08-17T07:09:00.719530Z",
     "iopub.status.idle": "2022-08-17T07:09:00.725099Z",
     "shell.execute_reply": "2022-08-17T07:09:00.723950Z"
    },
    "papermill": {
     "duration": 0.030325,
     "end_time": "2022-08-17T07:09:00.727611",
     "exception": false,
     "start_time": "2022-08-17T07:09:00.697286",
     "status": "completed"
    },
    "tags": []
   },
   "outputs": [],
   "source": [
    "sales=[9,8,7,6,5,4,3]\n",
    "sales_array=np.array(sales,dtype=np.float32)\n",
    "sales_array=sales_array.reshape(-1,1)\n",
    "sales_tensor=Variable(torch.from_numpy(sales_array))"
   ]
  },
  {
   "cell_type": "markdown",
   "id": "44cd0f99",
   "metadata": {
    "papermill": {
     "duration": 0.020405,
     "end_time": "2022-08-17T07:09:00.769354",
     "exception": false,
     "start_time": "2022-08-17T07:09:00.748949",
     "status": "completed"
    },
    "tags": []
   },
   "source": [
    "### **VISUALIZE**"
   ]
  },
  {
   "cell_type": "code",
   "execution_count": 36,
   "id": "40900e01",
   "metadata": {
    "execution": {
     "iopub.execute_input": "2022-08-17T07:09:00.812176Z",
     "iopub.status.busy": "2022-08-17T07:09:00.811809Z",
     "iopub.status.idle": "2022-08-17T07:09:01.056290Z",
     "shell.execute_reply": "2022-08-17T07:09:01.055138Z"
    },
    "papermill": {
     "duration": 0.269011,
     "end_time": "2022-08-17T07:09:01.058909",
     "exception": false,
     "start_time": "2022-08-17T07:09:00.789898",
     "status": "completed"
    },
    "tags": []
   },
   "outputs": [
    {
     "data": {
      "text/plain": [
       "Text(0, 0.5, 'SALES')"
      ]
     },
     "execution_count": 36,
     "metadata": {},
     "output_type": "execute_result"
    },
    {
     "data": {
      "image/png": "[encoded data removed]",
      "text/plain": [
       "<Figure size 432x288 with 1 Axes>"
      ]
     },
     "metadata": {
      "needs_background": "light"
     },
     "output_type": "display_data"
    }
   ],
   "source": [
    "import matplotlib.pyplot as plt\n",
    "plt.scatter(sales_array,TV_adds_array)\n",
    "plt.xlabel(\"TV ADD's\")\n",
    "plt.ylabel(\"SALES\")"
   ]
  },
  {
   "cell_type": "code",
   "execution_count": 37,
   "id": "a702767a",
   "metadata": {
    "execution": {
     "iopub.execute_input": "2022-08-17T07:09:01.103337Z",
     "iopub.status.busy": "2022-08-17T07:09:01.102964Z",
     "iopub.status.idle": "2022-08-17T07:09:01.107506Z",
     "shell.execute_reply": "2022-08-17T07:09:01.106385Z"
    },
    "papermill": {
     "duration": 0.029709,
     "end_time": "2022-08-17T07:09:01.109876",
     "exception": false,
     "start_time": "2022-08-17T07:09:01.080167",
     "status": "completed"
    },
    "tags": []
   },
   "outputs": [],
   "source": [
    "import torch.nn as nn"
   ]
  },
  {
   "cell_type": "code",
   "execution_count": 38,
   "id": "6259dc03",
   "metadata": {
    "execution": {
     "iopub.execute_input": "2022-08-17T07:09:01.154921Z",
     "iopub.status.busy": "2022-08-17T07:09:01.154456Z",
     "iopub.status.idle": "2022-08-17T07:09:01.160496Z",
     "shell.execute_reply": "2022-08-17T07:09:01.159437Z"
    },
    "papermill": {
     "duration": 0.031421,
     "end_time": "2022-08-17T07:09:01.162687",
     "exception": false,
     "start_time": "2022-08-17T07:09:01.131266",
     "status": "completed"
    },
    "tags": []
   },
   "outputs": [],
   "source": [
    "class LinearRegression(nn.Module):\n",
    "    def __init__(self,input_size,output_size): \n",
    "        # Super function is inherite nn.Module and we can access everything in nn.Module\n",
    "        super(LinearRegression,self).__init__()\n",
    "        self.linear=nn.Linear(input_dim,output_dim)\n",
    "    def forward(self,x):\n",
    "        return self.linear(x)"
   ]
  },
  {
   "cell_type": "code",
   "execution_count": 39,
   "id": "b5da0953",
   "metadata": {
    "execution": {
     "iopub.execute_input": "2022-08-17T07:09:01.207226Z",
     "iopub.status.busy": "2022-08-17T07:09:01.206807Z",
     "iopub.status.idle": "2022-08-17T07:09:01.212914Z",
     "shell.execute_reply": "2022-08-17T07:09:01.211868Z"
    },
    "papermill": {
     "duration": 0.030872,
     "end_time": "2022-08-17T07:09:01.215166",
     "exception": false,
     "start_time": "2022-08-17T07:09:01.184294",
     "status": "completed"
    },
    "tags": []
   },
   "outputs": [],
   "source": [
    "# MODEL DEFINITION\n",
    "\n",
    "input_dim=1\n",
    "output_dim=1\n",
    "model=LinearRegression(input_dim,output_dim)"
   ]
  },
  {
   "cell_type": "code",
   "execution_count": 40,
   "id": "752fb307",
   "metadata": {
    "execution": {
     "iopub.execute_input": "2022-08-17T07:09:01.260552Z",
     "iopub.status.busy": "2022-08-17T07:09:01.260166Z",
     "iopub.status.idle": "2022-08-17T07:09:01.265168Z",
     "shell.execute_reply": "2022-08-17T07:09:01.264049Z"
    },
    "papermill": {
     "duration": 0.030337,
     "end_time": "2022-08-17T07:09:01.267197",
     "exception": false,
     "start_time": "2022-08-17T07:09:01.236860",
     "status": "completed"
    },
    "tags": []
   },
   "outputs": [],
   "source": [
    "# MEAN SQUARED ERROR\n",
    "mse=nn.MSELoss()"
   ]
  },
  {
   "cell_type": "code",
   "execution_count": 41,
   "id": "56f430c2",
   "metadata": {
    "execution": {
     "iopub.execute_input": "2022-08-17T07:09:01.311959Z",
     "iopub.status.busy": "2022-08-17T07:09:01.311577Z",
     "iopub.status.idle": "2022-08-17T07:09:01.316066Z",
     "shell.execute_reply": "2022-08-17T07:09:01.315243Z"
    },
    "papermill": {
     "duration": 0.029184,
     "end_time": "2022-08-17T07:09:01.318151",
     "exception": false,
     "start_time": "2022-08-17T07:09:01.288967",
     "status": "completed"
    },
    "tags": []
   },
   "outputs": [],
   "source": [
    "# OPTIMIZATION : Find best parameters for minimize error.\n",
    "learning_rate=0.02\n",
    "optimizer=torch.optim.SGD(model.parameters(),lr=learning_rate)"
   ]
  },
  {
   "cell_type": "code",
   "execution_count": 42,
   "id": "b3c3a1e0",
   "metadata": {
    "execution": {
     "iopub.execute_input": "2022-08-17T07:09:01.362814Z",
     "iopub.status.busy": "2022-08-17T07:09:01.362120Z",
     "iopub.status.idle": "2022-08-17T07:09:01.778900Z",
     "shell.execute_reply": "2022-08-17T07:09:01.777708Z"
    },
    "papermill": {
     "duration": 0.442025,
     "end_time": "2022-08-17T07:09:01.781586",
     "exception": false,
     "start_time": "2022-08-17T07:09:01.339561",
     "status": "completed"
    },
    "tags": []
   },
   "outputs": [
    {
     "name": "stdout",
     "output_type": "stream",
     "text": [
      "Epoch: 0 , Loss: 404.2328796386719\n",
      "Epoch: 50 , Loss: 10.070256233215332\n",
      "Epoch: 100 , Loss: 6.804892063140869\n",
      "Epoch: 150 , Loss: 4.598349571228027\n",
      "Epoch: 200 , Loss: 3.1072959899902344\n",
      "Epoch: 250 , Loss: 2.099731922149658\n",
      "Epoch: 300 , Loss: 1.4188734292984009\n",
      "Epoch: 350 , Loss: 0.9587935209274292\n",
      "Epoch: 400 , Loss: 0.6478975415229797\n",
      "Epoch: 450 , Loss: 0.4378115236759186\n",
      "Epoch: 500 , Loss: 0.29584792256355286\n",
      "Epoch: 550 , Loss: 0.19991712272167206\n",
      "Epoch: 600 , Loss: 0.13509218394756317\n",
      "Epoch: 650 , Loss: 0.09128714352846146\n",
      "Epoch: 700 , Loss: 0.06168677657842636\n",
      "Epoch: 750 , Loss: 0.041683781892061234\n",
      "Epoch: 800 , Loss: 0.02816757746040821\n",
      "Epoch: 850 , Loss: 0.01903393305838108\n",
      "Epoch: 900 , Loss: 0.012861835770308971\n",
      "Epoch: 950 , Loss: 0.008691423572599888\n",
      "Epoch: 1000 , Loss: 0.005873096641153097\n"
     ]
    },
    {
     "data": {
      "image/png": "[encoded data removed]",
      "text/plain": [
       "<Figure size 432x288 with 1 Axes>"
      ]
     },
     "metadata": {
      "needs_background": "light"
     },
     "output_type": "display_data"
    }
   ],
   "source": [
    "# TRAIN MODEL\n",
    "loss_list=[]\n",
    "iteration_number=1001\n",
    "for iteration in range(iteration_number):\n",
    "    # Optimization:\n",
    "    optimizer.zero_grad()\n",
    "    # Forward:\n",
    "    results=model(sales_tensor)\n",
    "    # Calculate Loss:\n",
    "    loss=mse(results,TV_adds_tensor)\n",
    "    # Backward:\n",
    "    loss.backward()\n",
    "    # Update Parameters:\n",
    "    optimizer.step()\n",
    "    # Store Loss:\n",
    "    loss_list.append(loss.data)\n",
    "    # Print Loss:\n",
    "    if(iteration%50==0):\n",
    "        print(\"Epoch: {} , Loss: {}\".format(iteration,loss.data))\n",
    "\n",
    "plt.plot(range(iteration_number),loss_list)\n",
    "plt.xlabel(\"Number of Iterations\")\n",
    "plt.ylabel(\"Loss\")\n",
    "plt.show()"
   ]
  },
  {
   "cell_type": "code",
   "execution_count": 43,
   "id": "40965b02",
   "metadata": {
    "execution": {
     "iopub.execute_input": "2022-08-17T07:09:01.828425Z",
     "iopub.status.busy": "2022-08-17T07:09:01.827396Z",
     "iopub.status.idle": "2022-08-17T07:09:02.068961Z",
     "shell.execute_reply": "2022-08-17T07:09:02.067777Z"
    },
    "papermill": {
     "duration": 0.267451,
     "end_time": "2022-08-17T07:09:02.071593",
     "exception": false,
     "start_time": "2022-08-17T07:09:01.804142",
     "status": "completed"
    },
    "tags": []
   },
   "outputs": [
    {
     "data": {
      "image/png": "[encoded data removed]",
      "text/plain": [
       "<Figure size 432x288 with 1 Axes>"
      ]
     },
     "metadata": {
      "needs_background": "light"
     },
     "output_type": "display_data"
    }
   ],
   "source": [
    "predicted = model(sales_tensor).data.numpy()\n",
    "plt.scatter(sales_array,TV_adds_array,label = \"original data\",color =\"red\",linewidths=3)\n",
    "plt.scatter(sales_array,predicted,label = \"predicted data\",color =\"blue\",marker=\"*\",linewidths=3)\n",
    "plt.legend()\n",
    "plt.xlabel(\"SALES\")\n",
    "plt.ylabel(\"TV ADD's\")\n",
    "plt.title(\"Original vs Predicted Values\")\n",
    "plt.show()"
   ]
  },
  {
   "cell_type": "markdown",
   "id": "5830380b",
   "metadata": {
    "papermill": {
     "duration": 0.022588,
     "end_time": "2022-08-17T07:09:02.116710",
     "exception": false,
     "start_time": "2022-08-17T07:09:02.094122",
     "status": "completed"
    },
    "tags": []
   },
   "source": [
    "<a id=\"9\"></a>\n",
    "\n",
    "# **LOGISTIC REGRESSION with PYTORCH**"
   ]
  },
  {
   "cell_type": "code",
   "execution_count": 44,
   "id": "e77721c4",
   "metadata": {
    "execution": {
     "iopub.execute_input": "2022-08-17T07:09:02.163760Z",
     "iopub.status.busy": "2022-08-17T07:09:02.162973Z",
     "iopub.status.idle": "2022-08-17T07:09:03.190921Z",
     "shell.execute_reply": "2022-08-17T07:09:03.189721Z"
    },
    "papermill": {
     "duration": 1.054889,
     "end_time": "2022-08-17T07:09:03.193826",
     "exception": false,
     "start_time": "2022-08-17T07:09:02.138937",
     "status": "completed"
    },
    "tags": []
   },
   "outputs": [],
   "source": [
    "import torch\n",
    "import torch.nn as nn\n",
    "from torch.autograd import Variable\n",
    "from torch.utils.data import DataLoader\n",
    "from sklearn.model_selection import train_test_split"
   ]
  },
  {
   "cell_type": "code",
   "execution_count": 45,
   "id": "42f74a85",
   "metadata": {
    "execution": {
     "iopub.execute_input": "2022-08-17T07:09:03.240281Z",
     "iopub.status.busy": "2022-08-17T07:09:03.239901Z",
     "iopub.status.idle": "2022-08-17T07:09:06.963196Z",
     "shell.execute_reply": "2022-08-17T07:09:06.962116Z"
    },
    "papermill": {
     "duration": 3.749647,
     "end_time": "2022-08-17T07:09:06.965998",
     "exception": false,
     "start_time": "2022-08-17T07:09:03.216351",
     "status": "completed"
    },
    "tags": []
   },
   "outputs": [],
   "source": [
    "# Load data:\n",
    "train=pd.read_csv(\"../input/mnist-data/train.csv\",dtype=np.float32)"
   ]
  },
  {
   "cell_type": "code",
   "execution_count": 46,
   "id": "683d8c6a",
   "metadata": {
    "execution": {
     "iopub.execute_input": "2022-08-17T07:09:07.014262Z",
     "iopub.status.busy": "2022-08-17T07:09:07.013851Z",
     "iopub.status.idle": "2022-08-17T07:09:07.131875Z",
     "shell.execute_reply": "2022-08-17T07:09:07.130885Z"
    },
    "papermill": {
     "duration": 0.145216,
     "end_time": "2022-08-17T07:09:07.134593",
     "exception": false,
     "start_time": "2022-08-17T07:09:06.989377",
     "status": "completed"
    },
    "tags": []
   },
   "outputs": [],
   "source": [
    "# Lets split data:\n",
    "label_array=train.label.values\n",
    "features_array=train.iloc[:,train.columns != \"label\"].values/255 # Normalize"
   ]
  },
  {
   "cell_type": "code",
   "execution_count": 47,
   "id": "16c3e587",
   "metadata": {
    "execution": {
     "iopub.execute_input": "2022-08-17T07:09:07.180521Z",
     "iopub.status.busy": "2022-08-17T07:09:07.180127Z",
     "iopub.status.idle": "2022-08-17T07:09:07.529510Z",
     "shell.execute_reply": "2022-08-17T07:09:07.528673Z"
    },
    "papermill": {
     "duration": 0.375401,
     "end_time": "2022-08-17T07:09:07.532177",
     "exception": false,
     "start_time": "2022-08-17T07:09:07.156776",
     "status": "completed"
    },
    "tags": []
   },
   "outputs": [],
   "source": [
    "# Train - Test Split:\n",
    "features_train,features_test,label_train,label_test=train_test_split(features_array,label_array,test_size=0.2,random_state=42)"
   ]
  },
  {
   "cell_type": "code",
   "execution_count": 48,
   "id": "17413f8d",
   "metadata": {
    "execution": {
     "iopub.execute_input": "2022-08-17T07:09:07.579878Z",
     "iopub.status.busy": "2022-08-17T07:09:07.578782Z",
     "iopub.status.idle": "2022-08-17T07:09:07.584591Z",
     "shell.execute_reply": "2022-08-17T07:09:07.583778Z"
    },
    "papermill": {
     "duration": 0.031316,
     "end_time": "2022-08-17T07:09:07.586749",
     "exception": false,
     "start_time": "2022-08-17T07:09:07.555433",
     "status": "completed"
    },
    "tags": []
   },
   "outputs": [],
   "source": [
    "# Lets create feature and label tensor for train:\n",
    "featuresTrain=torch.from_numpy(features_train)\n",
    "labelTrain=torch.from_numpy(label_train).type(torch.LongTensor)\n",
    "\n",
    "# Now create feature and label tensor for test:\n",
    "featuresTest=torch.from_numpy(features_test)\n",
    "labelTest=torch.from_numpy(label_test).type(torch.LongTensor)"
   ]
  },
  {
   "cell_type": "code",
   "execution_count": 49,
   "id": "26d56797",
   "metadata": {
    "execution": {
     "iopub.execute_input": "2022-08-17T07:09:07.633786Z",
     "iopub.status.busy": "2022-08-17T07:09:07.632514Z",
     "iopub.status.idle": "2022-08-17T07:09:07.637894Z",
     "shell.execute_reply": "2022-08-17T07:09:07.636964Z"
    },
    "papermill": {
     "duration": 0.031423,
     "end_time": "2022-08-17T07:09:07.640283",
     "exception": false,
     "start_time": "2022-08-17T07:09:07.608860",
     "status": "completed"
    },
    "tags": []
   },
   "outputs": [],
   "source": [
    "# Epoch, Iteration & Batch Size:\n",
    "batch_size=100\n",
    "numberOfIter=10000\n",
    "epoch=numberOfIter/(len(features_train)/batch_size)\n",
    "epoch=int(epoch)"
   ]
  },
  {
   "cell_type": "code",
   "execution_count": 50,
   "id": "e6ecb621",
   "metadata": {
    "execution": {
     "iopub.execute_input": "2022-08-17T07:09:07.687037Z",
     "iopub.status.busy": "2022-08-17T07:09:07.686608Z",
     "iopub.status.idle": "2022-08-17T07:09:07.693223Z",
     "shell.execute_reply": "2022-08-17T07:09:07.692390Z"
    },
    "papermill": {
     "duration": 0.032875,
     "end_time": "2022-08-17T07:09:07.695664",
     "exception": false,
     "start_time": "2022-08-17T07:09:07.662789",
     "status": "completed"
    },
    "tags": []
   },
   "outputs": [],
   "source": [
    "# Lets convert our data for Pytorch:\n",
    "train=torch.utils.data.TensorDataset(featuresTrain,labelTrain)\n",
    "test=torch.utils.data.TensorDataset(featuresTest,featuresTest)"
   ]
  },
  {
   "cell_type": "code",
   "execution_count": 51,
   "id": "96c33e5a",
   "metadata": {
    "execution": {
     "iopub.execute_input": "2022-08-17T07:09:07.741908Z",
     "iopub.status.busy": "2022-08-17T07:09:07.741198Z",
     "iopub.status.idle": "2022-08-17T07:09:07.745662Z",
     "shell.execute_reply": "2022-08-17T07:09:07.744966Z"
    },
    "papermill": {
     "duration": 0.029691,
     "end_time": "2022-08-17T07:09:07.747711",
     "exception": false,
     "start_time": "2022-08-17T07:09:07.718020",
     "status": "completed"
    },
    "tags": []
   },
   "outputs": [],
   "source": [
    "# DataLoader:\n",
    "train_loader=DataLoader(train,batch_size=batch_size,shuffle=False)\n",
    "test_loader=DataLoader(test,batch_size=batch_size,shuffle=False)"
   ]
  },
  {
   "cell_type": "code",
   "execution_count": 52,
   "id": "fe800e30",
   "metadata": {
    "execution": {
     "iopub.execute_input": "2022-08-17T07:09:07.794067Z",
     "iopub.status.busy": "2022-08-17T07:09:07.793510Z",
     "iopub.status.idle": "2022-08-17T07:09:07.898853Z",
     "shell.execute_reply": "2022-08-17T07:09:07.897274Z"
    },
    "papermill": {
     "duration": 0.132931,
     "end_time": "2022-08-17T07:09:07.903109",
     "exception": false,
     "start_time": "2022-08-17T07:09:07.770178",
     "status": "completed"
    },
    "tags": []
   },
   "outputs": [
    {
     "data": {
      "image/png": "[encoded data removed]",
      "text/plain": [
       "<Figure size 432x288 with 1 Axes>"
      ]
     },
     "metadata": {
      "needs_background": "light"
     },
     "output_type": "display_data"
    }
   ],
   "source": [
    "# Lets visualize some of images:\n",
    "plt.imshow(features_array[20].reshape(28,28))\n",
    "plt.axis(\"off\")\n",
    "plt.title(str(label_array[20]))\n",
    "plt.show()"
   ]
  },
  {
   "cell_type": "code",
   "execution_count": 53,
   "id": "58590b55",
   "metadata": {
    "execution": {
     "iopub.execute_input": "2022-08-17T07:09:07.972512Z",
     "iopub.status.busy": "2022-08-17T07:09:07.971831Z",
     "iopub.status.idle": "2022-08-17T07:09:07.977741Z",
     "shell.execute_reply": "2022-08-17T07:09:07.976709Z"
    },
    "papermill": {
     "duration": 0.031638,
     "end_time": "2022-08-17T07:09:07.980097",
     "exception": false,
     "start_time": "2022-08-17T07:09:07.948459",
     "status": "completed"
    },
    "tags": []
   },
   "outputs": [],
   "source": [
    "# Logistic Regression Model:\n",
    "class LogisticRegression(nn.Module):\n",
    "    def __init__(self,input_dim,output_dim):\n",
    "        \n",
    "        super(LogisticRegression,self).__init__()\n",
    "        self.linear=nn.Linear(input_dim,output_dim)\n",
    "        \n",
    "    def forward(self,x):\n",
    "        out=self.linear(x)\n",
    "        return out"
   ]
  },
  {
   "cell_type": "code",
   "execution_count": 54,
   "id": "6ea66334",
   "metadata": {
    "execution": {
     "iopub.execute_input": "2022-08-17T07:09:08.026098Z",
     "iopub.status.busy": "2022-08-17T07:09:08.025602Z",
     "iopub.status.idle": "2022-08-17T07:09:08.030603Z",
     "shell.execute_reply": "2022-08-17T07:09:08.029520Z"
    },
    "papermill": {
     "duration": 0.030768,
     "end_time": "2022-08-17T07:09:08.032971",
     "exception": false,
     "start_time": "2022-08-17T07:09:08.002203",
     "status": "completed"
    },
    "tags": []
   },
   "outputs": [],
   "source": [
    "# Define Model:\n",
    "input_dim=28*28 # Image size\n",
    "output_dim=10 # Labels"
   ]
  },
  {
   "cell_type": "code",
   "execution_count": 55,
   "id": "7b305603",
   "metadata": {
    "execution": {
     "iopub.execute_input": "2022-08-17T07:09:08.080345Z",
     "iopub.status.busy": "2022-08-17T07:09:08.079583Z",
     "iopub.status.idle": "2022-08-17T07:09:08.084129Z",
     "shell.execute_reply": "2022-08-17T07:09:08.083365Z"
    },
    "papermill": {
     "duration": 0.030752,
     "end_time": "2022-08-17T07:09:08.086118",
     "exception": false,
     "start_time": "2022-08-17T07:09:08.055366",
     "status": "completed"
    },
    "tags": []
   },
   "outputs": [],
   "source": [
    "# Create Model:\n",
    "model=LogisticRegression(input_dim,output_dim)"
   ]
  },
  {
   "cell_type": "markdown",
   "id": "e2453823",
   "metadata": {
    "papermill": {
     "duration": 0.021755,
     "end_time": "2022-08-17T07:09:08.130235",
     "exception": false,
     "start_time": "2022-08-17T07:09:08.108480",
     "status": "completed"
    },
    "tags": []
   },
   "source": [
    "# Loss Function:\n",
    "\n",
    "* Loss functions are one of the key pieces of an effective deep learning solution. PyTorch uses loss functions to determine **how it will update the network to reach the desired results**.\n"
   ]
  },
  {
   "cell_type": "code",
   "execution_count": 56,
   "id": "99da5f06",
   "metadata": {
    "execution": {
     "iopub.execute_input": "2022-08-17T07:09:08.177709Z",
     "iopub.status.busy": "2022-08-17T07:09:08.176678Z",
     "iopub.status.idle": "2022-08-17T07:09:08.181484Z",
     "shell.execute_reply": "2022-08-17T07:09:08.180687Z"
    },
    "papermill": {
     "duration": 0.03085,
     "end_time": "2022-08-17T07:09:08.183634",
     "exception": false,
     "start_time": "2022-08-17T07:09:08.152784",
     "status": "completed"
    },
    "tags": []
   },
   "outputs": [],
   "source": [
    "# LOSS (Cross Entropy Loss):\n",
    "error=nn.CrossEntropyLoss()"
   ]
  },
  {
   "cell_type": "markdown",
   "id": "235d7b87",
   "metadata": {
    "papermill": {
     "duration": 0.021837,
     "end_time": "2022-08-17T07:09:08.228450",
     "exception": false,
     "start_time": "2022-08-17T07:09:08.206613",
     "status": "completed"
    },
    "tags": []
   },
   "source": [
    "# Optimizing\n",
    "\n",
    "* Training a network involves passing data through the network, using the loss function to determine the difference between the prediction and the actual label, and then using that information to update the weights of the network in an attempt to make the loss function return as small a loss as possible. \n",
    "* To perform the updates on the neural network, we use an optimizer."
   ]
  },
  {
   "cell_type": "code",
   "execution_count": 57,
   "id": "adae561f",
   "metadata": {
    "execution": {
     "iopub.execute_input": "2022-08-17T07:09:08.275037Z",
     "iopub.status.busy": "2022-08-17T07:09:08.274288Z",
     "iopub.status.idle": "2022-08-17T07:09:08.279437Z",
     "shell.execute_reply": "2022-08-17T07:09:08.278619Z"
    },
    "papermill": {
     "duration": 0.030993,
     "end_time": "2022-08-17T07:09:08.281488",
     "exception": false,
     "start_time": "2022-08-17T07:09:08.250495",
     "status": "completed"
    },
    "tags": []
   },
   "outputs": [],
   "source": [
    "# Optimizer:\n",
    "learning_rate=0.001\n",
    "optimizer=torch.optim.SGD(model.parameters(),lr=learning_rate)"
   ]
  },
  {
   "cell_type": "code",
   "execution_count": 58,
   "id": "1df39643",
   "metadata": {
    "execution": {
     "iopub.execute_input": "2022-08-17T07:09:08.327075Z",
     "iopub.status.busy": "2022-08-17T07:09:08.326352Z",
     "iopub.status.idle": "2022-08-17T07:09:38.467480Z",
     "shell.execute_reply": "2022-08-17T07:09:38.466369Z"
    },
    "papermill": {
     "duration": 30.167105,
     "end_time": "2022-08-17T07:09:38.470445",
     "exception": false,
     "start_time": "2022-08-17T07:09:08.303340",
     "status": "completed"
    },
    "tags": []
   },
   "outputs": [
    {
     "name": "stdout",
     "output_type": "stream",
     "text": [
      "Iteration: 500  Loss: 1.8256434202194214  Accuracy: 90.85785675048828%\n",
      "Iteration: 1000  Loss: 1.5937858819961548  Accuracy: 68.3663101196289%\n",
      "Iteration: 1500  Loss: 1.2755331993103027  Accuracy: 53.295833587646484%\n",
      "Iteration: 2000  Loss: 1.1910173892974854  Accuracy: 53.295833587646484%\n",
      "Iteration: 2500  Loss: 1.0336780548095703  Accuracy: 53.295833587646484%\n",
      "Iteration: 3000  Loss: 0.938490629196167  Accuracy: 53.295833587646484%\n",
      "Iteration: 3500  Loss: 0.9016538262367249  Accuracy: 53.295833587646484%\n",
      "Iteration: 4000  Loss: 0.7556547522544861  Accuracy: 53.2408332824707%\n",
      "Iteration: 4500  Loss: 0.9879857897758484  Accuracy: 53.2408332824707%\n",
      "Iteration: 5000  Loss: 0.8041518330574036  Accuracy: 53.2408332824707%\n",
      "Iteration: 5500  Loss: 0.7476716637611389  Accuracy: 53.2408332824707%\n",
      "Iteration: 6000  Loss: 0.8827628493309021  Accuracy: 53.2408332824707%\n",
      "Iteration: 6500  Loss: 0.6573183536529541  Accuracy: 53.2408332824707%\n",
      "Iteration: 7000  Loss: 0.717142641544342  Accuracy: 53.2408332824707%\n",
      "Iteration: 7500  Loss: 0.6412285566329956  Accuracy: 53.2408332824707%\n",
      "Iteration: 8000  Loss: 0.7410070300102234  Accuracy: 53.2408332824707%\n",
      "Iteration: 8500  Loss: 0.5514525771141052  Accuracy: 53.2408332824707%\n",
      "Iteration: 9000  Loss: 0.6600074768066406  Accuracy: 53.2408332824707%\n",
      "Iteration: 9500  Loss: 0.5281896591186523  Accuracy: 53.2408332824707%\n"
     ]
    }
   ],
   "source": [
    "# Train Model:\n",
    "count=0\n",
    "loss_list=[]\n",
    "iteration_list=[]\n",
    "\n",
    "for epoch in range(epoch):\n",
    "    for i, (images,labels) in enumerate(train_loader):\n",
    "        \n",
    "        train=Variable(images.view(-1,28*28))\n",
    "        labels=Variable(labels)\n",
    "        \n",
    "        # Optimizer:\n",
    "        optimizer.zero_grad()\n",
    "        \n",
    "        # Forward:\n",
    "        outputs=model(train)\n",
    "        \n",
    "        # Softmax & Loss:\n",
    "        loss=error(outputs,labels)\n",
    "        \n",
    "        # Gradients:\n",
    "        loss.backward()\n",
    "        \n",
    "        # Update parameters:\n",
    "        optimizer.step()\n",
    "        \n",
    "        count+=1\n",
    "        \n",
    "        # PREDICTION:\n",
    "        \n",
    "        if count % 50==0:\n",
    "            correct=0\n",
    "            total=0\n",
    "            \n",
    "            for images, labels in test_loader:\n",
    "                test=Variable(images.view(-1,28*28))\n",
    "                \n",
    "                outputs=model(test)\n",
    "                \n",
    "                prediction=torch.max(outputs.data, 1)[1][0]\n",
    "                \n",
    "                total+=len(labels)\n",
    "                correct+=(prediction==labels).sum()\n",
    "                \n",
    "            accuracy=correct/float(total)\n",
    "            \n",
    "            loss_list.append(loss.data)\n",
    "            iteration_list.append(count)\n",
    "        if count % 500==0:\n",
    "            print('Iteration: {}  Loss: {}  Accuracy: {}%'.format(count, loss.data, accuracy))"
   ]
  },
  {
   "cell_type": "code",
   "execution_count": 59,
   "id": "6c0ff763",
   "metadata": {
    "execution": {
     "iopub.execute_input": "2022-08-17T07:09:38.518676Z",
     "iopub.status.busy": "2022-08-17T07:09:38.518309Z",
     "iopub.status.idle": "2022-08-17T07:09:38.721311Z",
     "shell.execute_reply": "2022-08-17T07:09:38.720123Z"
    },
    "papermill": {
     "duration": 0.229734,
     "end_time": "2022-08-17T07:09:38.723708",
     "exception": false,
     "start_time": "2022-08-17T07:09:38.493974",
     "status": "completed"
    },
    "tags": []
   },
   "outputs": [
    {
     "data": {
      "text/plain": [
       "Text(0, 0.5, 'Loss')"
      ]
     },
     "execution_count": 59,
     "metadata": {},
     "output_type": "execute_result"
    },
    {
     "data": {
      "image/png": "[encoded data removed]",
      "text/plain": [
       "<Figure size 432x288 with 1 Axes>"
      ]
     },
     "metadata": {
      "needs_background": "light"
     },
     "output_type": "display_data"
    }
   ],
   "source": [
    "plt.plot(iteration_list,loss_list)\n",
    "plt.xlabel(\"Number of Iteration\")\n",
    "plt.ylabel(\"Loss\")"
   ]
  },
  {
   "cell_type": "markdown",
   "id": "3319e568",
   "metadata": {
    "papermill": {
     "duration": 0.023245,
     "end_time": "2022-08-17T07:09:38.770841",
     "exception": false,
     "start_time": "2022-08-17T07:09:38.747596",
     "status": "completed"
    },
    "tags": []
   },
   "source": [
    "<a id=\"10\"></a>\n",
    "\n",
    "# **ARTIFICIAL NEURAL NETWORK**"
   ]
  },
  {
   "cell_type": "code",
   "execution_count": 60,
   "id": "46d83679",
   "metadata": {
    "execution": {
     "iopub.execute_input": "2022-08-17T07:09:38.820255Z",
     "iopub.status.busy": "2022-08-17T07:09:38.819848Z",
     "iopub.status.idle": "2022-08-17T07:09:38.824344Z",
     "shell.execute_reply": "2022-08-17T07:09:38.823580Z"
    },
    "papermill": {
     "duration": 0.031495,
     "end_time": "2022-08-17T07:09:38.826264",
     "exception": false,
     "start_time": "2022-08-17T07:09:38.794769",
     "status": "completed"
    },
    "tags": []
   },
   "outputs": [],
   "source": [
    "import torch\n",
    "import torch.nn as nn\n",
    "from torch.autograd import Variable"
   ]
  },
  {
   "cell_type": "code",
   "execution_count": 61,
   "id": "31632bf0",
   "metadata": {
    "execution": {
     "iopub.execute_input": "2022-08-17T07:09:38.875308Z",
     "iopub.status.busy": "2022-08-17T07:09:38.874895Z",
     "iopub.status.idle": "2022-08-17T07:09:38.884146Z",
     "shell.execute_reply": "2022-08-17T07:09:38.883010Z"
    },
    "papermill": {
     "duration": 0.036396,
     "end_time": "2022-08-17T07:09:38.886290",
     "exception": false,
     "start_time": "2022-08-17T07:09:38.849894",
     "status": "completed"
    },
    "tags": []
   },
   "outputs": [],
   "source": [
    "# ANN Model:\n",
    "\n",
    "class ANN(nn.Module):\n",
    "    def __init__(self,input_dim,hidden_dim,output_dim):\n",
    "        super(ANN,self).__init__()\n",
    "        \n",
    "        # INPUT LAYER:\n",
    "        self.function1=nn.Linear(input_dim,hidden_dim)\n",
    "        self.relu1=nn.ReLU()\n",
    "        \n",
    "        # FIRST HIDDEN LAYER:\n",
    "        self.function2=nn.Linear(hidden_dim,hidden_dim)\n",
    "        self.tanh2=nn.Tanh()\n",
    "        \n",
    "        # SECOND HIDDEN LAYER:\n",
    "        self.function3=nn.Linear(hidden_dim,hidden_dim)\n",
    "        self.elu3=nn.ELU()\n",
    "        \n",
    "        # OUTPUT LAYER:\n",
    "        self.function4=nn.Linear(hidden_dim,output_dim)\n",
    "    \n",
    "    def forward(self,x):\n",
    "        out=self.function1(x)\n",
    "        out=self.relu1(out)\n",
    "        \n",
    "        out=self.function2(out)\n",
    "        out=self.tanh2(out)\n",
    "        \n",
    "        out=self.function3(out)\n",
    "        out=self.elu3(out)\n",
    "        \n",
    "        out=self.function4(out)\n",
    "        return out\n",
    "        "
   ]
  },
  {
   "cell_type": "code",
   "execution_count": 62,
   "id": "d2b991a9",
   "metadata": {
    "execution": {
     "iopub.execute_input": "2022-08-17T07:09:38.934975Z",
     "iopub.status.busy": "2022-08-17T07:09:38.934536Z",
     "iopub.status.idle": "2022-08-17T07:09:38.939783Z",
     "shell.execute_reply": "2022-08-17T07:09:38.938599Z"
    },
    "papermill": {
     "duration": 0.0321,
     "end_time": "2022-08-17T07:09:38.942011",
     "exception": false,
     "start_time": "2022-08-17T07:09:38.909911",
     "status": "completed"
    },
    "tags": []
   },
   "outputs": [],
   "source": [
    "# Define Model\n",
    "input_dim=28*28\n",
    "hidden_dim=150\n",
    "output_dim=10"
   ]
  },
  {
   "cell_type": "code",
   "execution_count": 63,
   "id": "b305c319",
   "metadata": {
    "execution": {
     "iopub.execute_input": "2022-08-17T07:09:38.991622Z",
     "iopub.status.busy": "2022-08-17T07:09:38.991199Z",
     "iopub.status.idle": "2022-08-17T07:09:38.998163Z",
     "shell.execute_reply": "2022-08-17T07:09:38.996981Z"
    },
    "papermill": {
     "duration": 0.034901,
     "end_time": "2022-08-17T07:09:39.000579",
     "exception": false,
     "start_time": "2022-08-17T07:09:38.965678",
     "status": "completed"
    },
    "tags": []
   },
   "outputs": [],
   "source": [
    "# Create Model:\n",
    "model=ANN(input_dim,hidden_dim,output_dim)"
   ]
  },
  {
   "cell_type": "code",
   "execution_count": 64,
   "id": "dd0bdd1c",
   "metadata": {
    "execution": {
     "iopub.execute_input": "2022-08-17T07:09:39.050224Z",
     "iopub.status.busy": "2022-08-17T07:09:39.049801Z",
     "iopub.status.idle": "2022-08-17T07:09:39.055196Z",
     "shell.execute_reply": "2022-08-17T07:09:39.054029Z"
    },
    "papermill": {
     "duration": 0.033251,
     "end_time": "2022-08-17T07:09:39.057678",
     "exception": false,
     "start_time": "2022-08-17T07:09:39.024427",
     "status": "completed"
    },
    "tags": []
   },
   "outputs": [],
   "source": [
    "# Loss Function:\n",
    "error=nn.CrossEntropyLoss()\n",
    "learning_rate=0.02"
   ]
  },
  {
   "cell_type": "code",
   "execution_count": 65,
   "id": "24560cdb",
   "metadata": {
    "execution": {
     "iopub.execute_input": "2022-08-17T07:09:39.107453Z",
     "iopub.status.busy": "2022-08-17T07:09:39.106615Z",
     "iopub.status.idle": "2022-08-17T07:09:39.112327Z",
     "shell.execute_reply": "2022-08-17T07:09:39.111011Z"
    },
    "papermill": {
     "duration": 0.03313,
     "end_time": "2022-08-17T07:09:39.114758",
     "exception": false,
     "start_time": "2022-08-17T07:09:39.081628",
     "status": "completed"
    },
    "tags": []
   },
   "outputs": [],
   "source": [
    "# Optimizer:\n",
    "optimizer=torch.optim.SGD(model.parameters(),lr=learning_rate)"
   ]
  },
  {
   "cell_type": "code",
   "execution_count": 66,
   "id": "a843b42a",
   "metadata": {
    "execution": {
     "iopub.execute_input": "2022-08-17T07:09:39.170364Z",
     "iopub.status.busy": "2022-08-17T07:09:39.169829Z",
     "iopub.status.idle": "2022-08-17T07:10:35.023369Z",
     "shell.execute_reply": "2022-08-17T07:10:35.022380Z"
    },
    "papermill": {
     "duration": 55.884631,
     "end_time": "2022-08-17T07:10:35.026260",
     "exception": false,
     "start_time": "2022-08-17T07:09:39.141629",
     "status": "completed"
    },
    "tags": []
   },
   "outputs": [
    {
     "name": "stdout",
     "output_type": "stream",
     "text": [
      "Iteration: 500  Loss: 0.7338578701019287  Accuracy: 53.21952438354492 %\n",
      "Iteration: 1000  Loss: 0.48292267322540283  Accuracy: 53.21952438354492 %\n",
      "Iteration: 1500  Loss: 0.21285222470760345  Accuracy: 53.10952377319336 %\n",
      "Iteration: 2000  Loss: 0.28123295307159424  Accuracy: 53.10952377319336 %\n",
      "Iteration: 2500  Loss: 0.3080880045890808  Accuracy: 53.10952377319336 %\n",
      "Iteration: 3000  Loss: 0.1254434734582901  Accuracy: 53.10952377319336 %\n",
      "Iteration: 3500  Loss: 0.23841647803783417  Accuracy: 53.10952377319336 %\n",
      "Iteration: 4000  Loss: 0.06636567413806915  Accuracy: 53.10952377319336 %\n",
      "Iteration: 4500  Loss: 0.2696840167045593  Accuracy: 53.10952377319336 %\n",
      "Iteration: 5000  Loss: 0.10075809806585312  Accuracy: 53.10952377319336 %\n",
      "Iteration: 5500  Loss: 0.1720883548259735  Accuracy: 53.10952377319336 %\n",
      "Iteration: 6000  Loss: 0.21575278043746948  Accuracy: 53.10952377319336 %\n",
      "Iteration: 6500  Loss: 0.09472387284040451  Accuracy: 53.21952438354492 %\n",
      "Iteration: 7000  Loss: 0.10826852917671204  Accuracy: 53.10952377319336 %\n",
      "Iteration: 7500  Loss: 0.10791564732789993  Accuracy: 53.21952438354492 %\n",
      "Iteration: 8000  Loss: 0.17339013516902924  Accuracy: 45.63154602050781 %\n",
      "Iteration: 8500  Loss: 0.05668456479907036  Accuracy: 53.10952377319336 %\n",
      "Iteration: 9000  Loss: 0.05042616277933121  Accuracy: 53.10952377319336 %\n"
     ]
    }
   ],
   "source": [
    "count = 0\n",
    "loss_list = []\n",
    "iteration_list = []\n",
    "accuracy_list = []\n",
    "for epoch in range(epoch):\n",
    "    for i, (images, labels) in enumerate(train_loader):\n",
    "\n",
    "        train = Variable(images.view(-1, 28*28))\n",
    "        labels = Variable(labels)\n",
    "        \n",
    "        optimizer.zero_grad()\n",
    "        \n",
    "        outputs = model(train)\n",
    "        \n",
    "        loss = error(outputs, labels)\n",
    "        \n",
    "        loss.backward()\n",
    "        \n",
    "        optimizer.step()\n",
    "        \n",
    "        count += 1\n",
    "        \n",
    "        if count % 50 == 0:\n",
    "            correct = 0\n",
    "            total = 0\n",
    "            \n",
    "            # Prediction:\n",
    "            for images, labels in test_loader:\n",
    "                test = Variable(images.view(-1, 28*28))\n",
    "                \n",
    "                # Forward \n",
    "                outputs = model(test)\n",
    "                \n",
    "                predicted = torch.max(outputs.data, 1)[1][0]\n",
    "                \n",
    "                total += len(labels)\n",
    "\n",
    "                correct += (predicted == labels).sum()\n",
    "            \n",
    "            accuracy =correct / float(total)\n",
    "            \n",
    "            loss_list.append(loss.data)\n",
    "            iteration_list.append(count)\n",
    "            accuracy_list.append(accuracy)\n",
    "        if count % 500 == 0:\n",
    "            print('Iteration: {}  Loss: {}  Accuracy: {} %'.format(count, loss.data, accuracy))"
   ]
  },
  {
   "cell_type": "code",
   "execution_count": 67,
   "id": "97e71c6e",
   "metadata": {
    "execution": {
     "iopub.execute_input": "2022-08-17T07:10:35.081830Z",
     "iopub.status.busy": "2022-08-17T07:10:35.081152Z",
     "iopub.status.idle": "2022-08-17T07:10:35.266502Z",
     "shell.execute_reply": "2022-08-17T07:10:35.265190Z"
    },
    "papermill": {
     "duration": 0.214554,
     "end_time": "2022-08-17T07:10:35.268952",
     "exception": false,
     "start_time": "2022-08-17T07:10:35.054398",
     "status": "completed"
    },
    "tags": []
   },
   "outputs": [
    {
     "data": {
      "image/png": "[encoded data removed]",
      "text/plain": [
       "<Figure size 432x288 with 1 Axes>"
      ]
     },
     "metadata": {
      "needs_background": "light"
     },
     "output_type": "display_data"
    }
   ],
   "source": [
    "# visualization loss \n",
    "plt.plot(iteration_list,loss_list)\n",
    "plt.xlabel(\"Number of Iteration\")\n",
    "plt.ylabel(\"Loss\")\n",
    "plt.show()"
   ]
  }
 ],
 "metadata": {
  "kernelspec": {
   "display_name": "Python 3 (ipykernel)",
   "language": "python",
   "name": "python3"
  },
  "language_info": {
   "codemirror_mode": {
    "name": "ipython",
    "version": 3
   },
   "file_extension": ".py",
   "mimetype": "text/x-python",
   "name": "python",
   "nbconvert_exporter": "python",
   "pygments_lexer": "ipython3",
   "version": "3.9.7"
  },
  "papermill": {
   "default_parameters": {},
   "duration": 109.627148,
   "end_time": "2022-08-17T07:10:36.219355",
   "environment_variables": {},
   "exception": null,
   "input_path": "__notebook__.ipynb",
   "output_path": "__notebook__.ipynb",
   "parameters": {},
   "start_time": "2022-08-17T07:08:46.592207",
   "version": "2.3.4"
  }
 },
 "nbformat": 4,
 "nbformat_minor": 5
}
